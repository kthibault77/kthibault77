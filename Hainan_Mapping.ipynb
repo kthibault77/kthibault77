{
 "cells": [
  {
   "cell_type": "markdown",
   "id": "b8ae4e94-9e50-43f7-8594-a595745512d0",
   "metadata": {},
   "source": [
    "## Environmental impact assessment"
   ]
  },
  {
   "cell_type": "markdown",
   "id": "b4feb3f4-b353-47e3-aa66-c2660663af37",
   "metadata": {
    "tags": []
   },
   "source": [
    "## Mapping impact\n",
    "\n",
    "Following field mission from the 29/06/2022 to the 02/07/2022"
   ]
  },
  {
   "cell_type": "code",
   "execution_count": 1,
   "id": "9566cd1c-4445-4166-a104-6c407389301a",
   "metadata": {
    "tags": []
   },
   "outputs": [
    {
     "name": "stdout",
     "output_type": "stream",
     "text": [
      "7\n"
     ]
    }
   ],
   "source": [
    "import xyzservices.providers as xyz\n",
    "import geopandas as gpd\n",
    "import fiona\n",
    "import json\n",
    "\n",
    "from os.path import exists\n",
    "\n",
    "img_vector=[\"AbandonedPonds\",\"Gates\",\"MangroveArea\",\"PondsClosetoMangrove\",\"RestoredMangrove\",\"SanjiangPark\",\"Villages\"]\n",
    "geopkgList=[]\n",
    "geojsonList=[]\n",
    "data=[]\n",
    "\n",
    "#open gpkg\n",
    "for gpkgName in img_vector:\n",
    "    for layername in fiona.listlayers(r'Vectors/Photos sites/'+gpkgName+'.gpkg'):\n",
    "        geopkgList.append(gpd.read_file(r'Vectors/Photos sites/'+gpkgName+'.gpkg', layer=layername))\n",
    "\n",
    "#convert to geojson (needed for on_click  popup method)\n",
    "i=0\n",
    "for i in range(len(geopkgList)):\n",
    "    if exists('Vectors/Photos sites/geojson/'+img_vector[i]+'.geojson')==False:\n",
    "        geojsonList.append(geopkgList[i].to_file('Vectors/Photos sites/geojson/'+img_vector[i]+'.geojson', driver='GeoJSON')) \n",
    "\n",
    "    with open('Vectors/Photos sites/geojson/'+img_vector[i]+'.geojson', 'r') as f:\n",
    "        data.append(json.load(f))\n",
    "\n",
    "print(len(data))"
   ]
  },
  {
   "cell_type": "code",
   "execution_count": 2,
   "id": "748f6f18-f3d8-4abc-9c5c-ee2e80f4d0e1",
   "metadata": {
    "tags": []
   },
   "outputs": [
    {
     "name": "stdout",
     "output_type": "stream",
     "text": [
      "7\n"
     ]
    },
    {
     "data": {
      "application/vnd.jupyter.widget-view+json": {
       "model_id": "e84ec1ace5b34704ab33e04ad54a7d13",
       "version_major": 2,
       "version_minor": 0
      },
      "text/plain": [
       "Map(center=[19.96323, 110.61723], controls=(ZoomControl(options=['position', 'zoom_in_text', 'zoom_in_title', …"
      ]
     },
     "metadata": {},
     "output_type": "display_data"
    }
   ],
   "source": [
    "from ipywidgets import Label, Layout, Output, Image, HBox, Button, Box\n",
    "from IPython.display import display, HTML\n",
    "from ipyleaflet import Map, GeoData, basemaps, basemap_to_tiles, LayersControl, Marker, Popup, GeoJSON\n",
    "import random\n",
    "from PIL import Image as ImagePIL\n",
    "\n",
    "photos_geojson_lst=[]\n",
    "\n",
    "#import the GoogleSatellite xyz tileset\n",
    "#tiles=xyz.GoogleSatellite\n",
    "tiles={'url': 'http://mt0.google.com/vt/lyrs=s&hl=en&x={x}&y={y}&z={z}', 'max_zoom': 18, 'attribution': '(C) Google Maps', 'name': 'GoogleSatellite'}\n",
    "\n",
    "#Coordinates of center of the bay (WGS)\n",
    "center_bay=(19.96323,110.61723)\n",
    "\n",
    "#geo_data = GeoData(geo_dataframe = geopkg)\n",
    "\n",
    "\n",
    "#create map\n",
    "m = Map(\n",
    "    basemap=basemap_to_tiles(tiles),\n",
    "    center=center_bay,\n",
    "    zoom=12,\n",
    "    scroll_wheel_zoom=True\n",
    "    )\n",
    "\n",
    "for i in range(len(data)):\n",
    "    photos_geojson_lst.append(GeoJSON(\n",
    "        data=data[i],\n",
    "        point_style={\n",
    "            'color': 'orange','opacity': 1, 'dashArray': '0', 'fillOpacity': 0.1, 'weight': 1,'radius':5\n",
    "        },\n",
    "        hover_style={\n",
    "            'color': 'white', 'dashArray': '0', 'fillOpacity': 0.5\n",
    "        }\n",
    "    ))\n",
    "\n",
    "print(len(photos_geojson_lst))    \n",
    "    \n",
    "#define the handle_click (what happens when on_click is called - i.e. callback func)\n",
    "def handle_click(feature, **kwargs):\n",
    "\n",
    "#open image with PIL to get the image size (to define the box)    \n",
    "    im = ImagePIL.open(\"IMG/\"+feature['properties']['filename']+\".jpg\")\n",
    "    ratio = im.size[0]/im.size[1]\n",
    "    des_width_pic = 500\n",
    "#call    \n",
    "    box_layout = Layout(display='flex',\n",
    "#                        flex_flow='column',\n",
    "#                        align_items='stretch',\n",
    "#                        border='solid',\n",
    "                        width= str(des_width_pic)+'px',\n",
    "                        height=str(des_width_pic/ratio)+'px')\n",
    "    \n",
    "    \n",
    "    with open(\"IMG/\"+feature['properties']['filename']+\".jpg\", \"rb\") as f:\n",
    "        image = f.read()\n",
    "    items = Image(\n",
    "        value=image,\n",
    "        format ='jpg'\n",
    "        )\n",
    "    items.layout.object_fit=\"cover\"\n",
    "    box = Box(children=[items], layout=box_layout)\n",
    "    \n",
    "    #define the popup that will appear\n",
    "    popupClick = Popup(\n",
    "        location=(feature['geometry']['coordinates'][1],feature['geometry']['coordinates'][0]),\n",
    "        max_width=1000,\n",
    "        child=box,\n",
    "        close_button=True,\n",
    "\n",
    "    )\n",
    "\n",
    "    m.add_layer(popupClick)\n",
    "\n",
    "for i in range(len(photos_geojson_lst)):\n",
    "    #attach on click action to geojson\n",
    "    photos_geojson_lst[i].on_click(handle_click)\n",
    "\n",
    "    #add geojson\n",
    "    m.add_layer(photos_geojson_lst[i])\n",
    "\n",
    "#add layers control\n",
    "m.add_control(LayersControl())\n",
    "\n",
    "m\n",
    "\n",
    "\n"
   ]
  },
  {
   "cell_type": "code",
   "execution_count": 22,
   "id": "384c0fa6-43fe-4623-bccd-023b27b75a22",
   "metadata": {},
   "outputs": [
    {
     "name": "stdout",
     "output_type": "stream",
     "text": [
      "The watermark extension is already loaded. To reload it, use:\n",
      "  %reload_ext watermark\n",
      "Python implementation: CPython\n",
      "Python version       : 3.9.12\n",
      "IPython version      : 8.4.0\n",
      "\n",
      "xyzservices: 2022.6.0\n",
      "geopandas  : 0.10.2\n",
      "fiona      : 1.8.21\n",
      "json       : 2.0.9\n",
      "ipywidgets : 7.7.1\n",
      "IPython    : 8.4.0\n",
      "ipyleaflet : 0.17.0\n",
      "PIL        : 9.1.1\n",
      "watermark  : 2.3.1\n",
      "\n",
      "Compiler    : MSC v.1929 64 bit (AMD64)\n",
      "OS          : Windows\n",
      "Release     : 10\n",
      "Machine     : AMD64\n",
      "Processor   : Intel64 Family 6 Model 158 Stepping 9, GenuineIntel\n",
      "CPU cores   : 8\n",
      "Architecture: 64bit\n",
      "\n",
      " \n",
      "Last updated: Sat Jul 16 2022 04:35:32China Standard Time\n",
      "\n"
     ]
    }
   ],
   "source": [
    "%load_ext watermark\n",
    "\n",
    "# python, ipython, packages, and machine characteristics\n",
    "%watermark -v -m -p xyzservices,geopandas,fiona,json,ipywidgets,IPython,ipyleaflet,PIL,watermark\n",
    "\n",
    "\n",
    "# date\n",
    "print (\" \")\n",
    "\n",
    "%watermark -u -n -t -z \n"
   ]
  },
  {
   "cell_type": "code",
   "execution_count": null,
   "id": "f0de75d1-9538-44d9-a9da-1f757d56f0e5",
   "metadata": {},
   "outputs": [],
   "source": []
  }
 ],
 "metadata": {
  "kernelspec": {
   "display_name": "GIS-kernel",
   "language": "python",
   "name": "gis-kernel"
  },
  "language_info": {
   "codemirror_mode": {
    "name": "ipython",
    "version": 3
   },
   "file_extension": ".py",
   "mimetype": "text/x-python",
   "name": "python",
   "nbconvert_exporter": "python",
   "pygments_lexer": "ipython3",
   "version": "3.9.12"
  }
 },
 "nbformat": 4,
 "nbformat_minor": 5
}
