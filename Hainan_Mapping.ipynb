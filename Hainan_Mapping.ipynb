{
 "cells": [
  {
   "cell_type": "markdown",
   "id": "b8ae4e94-9e50-43f7-8594-a595745512d0",
   "metadata": {
    "tags": []
   },
   "source": [
    "# Interactive mapping of the project site"
   ]
  },
  {
   "cell_type": "markdown",
   "id": "731a4ad9-16d6-41af-84eb-574a0c070bcb",
   "metadata": {
    "tags": []
   },
   "source": [
    "Following field mission from the 29/06/2022 to the 02/07/2022, this project aims at proposing an interactive cartography of the project site, project activities and their impact."
   ]
  },
  {
   "cell_type": "markdown",
   "id": "d43ecd74-3f75-4584-a289-9be50f50845e",
   "metadata": {
    "tags": []
   },
   "source": [
    "## Mapping of the project site\n",
    "The map below presents the project area by mapping geolocaized photos that have been taken on site, in order to help the reader to get familiar with the site environment\n",
    "\n",
    "By left-clicking on any point, it will display a photography of the site at this point. The photographies can be downloaded by right clicking and saving.\n",
    "\n",
    "This map will later be completed with more photos of the site, and the  photos will eventually be classified (infrastructures such as floodgate, cultural heritage, landscape, etc.)\n",
    "\n",
    "The extended project area will be added to the map below."
   ]
  },
  {
   "cell_type": "code",
   "execution_count": 4,
   "id": "9566cd1c-4445-4166-a104-6c407389301a",
   "metadata": {
    "jupyter": {
     "source_hidden": true
    },
    "tags": []
   },
   "outputs": [],
   "source": [
    "import xyzservices.providers as xyz\n",
    "import geopandas as gpd\n",
    "import fiona\n",
    "import json\n",
    "\n",
    "from os.path import exists\n",
    "from pathlib import Path\n",
    "\n",
    "cpnt_geopkg_list=[]\n",
    "cpnt_files_names_list=[]\n",
    "cpnt_geojson_list=[]\n",
    "data_cpnt_geojson_list=[]\n",
    "\n",
    "photos_files_names=[\"AbandonedPonds\",\"Gates\",\"MangroveArea\",\"PondsClosetoMangrove\",\"RestoredMangrove\",\"SanjiangPark\",\"Villages\"]\n",
    "photos_geopkg_list=[]\n",
    "photos_geojson_list=[]\n",
    "data_photos_geojson_list=[]\n",
    "\n",
    "#open gpkg containing photos georeferences\n",
    "for gpkgName in photos_files_names:\n",
    "    for layername in fiona.listlayers(r'Vectors/Photos sites/'+gpkgName+'.gpkg'):\n",
    "        photos_geopkg_list.append(gpd.read_file(r'Vectors/Photos sites/'+gpkgName+'.gpkg', layer=layername))\n",
    "        \n",
    "        \n",
    "#convert to geojson (needed for on_click  popup method)\n",
    "i=0\n",
    "for i in range(len(photos_geopkg_list)):\n",
    "    if exists('Vectors/Photos sites/geojson/'+photos_files_names[i]+'.geojson')==False:\n",
    "        photos_geojson_list.append(photos_geopkg_list[i].to_file('Vectors/Photos sites/geojson/'+photos_files_names[i]+'.geojson', driver='GeoJSON')) \n",
    "\n",
    "    with open('Vectors/Photos sites/geojson/'+photos_files_names[i]+'.geojson', 'r') as f:\n",
    "        data_photos_geojson_list.append(json.load(f))\n",
    "\n",
    "#print(len(data_photos_geojson_list)) - test\n",
    "\n",
    "#open gpkg containing components by scanning directory\n",
    "#assign directory\n",
    "directory = 'Vectors/Components'\n",
    "\n",
    "# iterate over files in that directory\n",
    "files = Path(directory).glob('*')\n",
    "for file in files:\n",
    "    #print(file)\n",
    "    if file.suffix == '.gpkg':\n",
    "        for layername in fiona.listlayers(file):\n",
    "            if gpd.read_file(file, layer=layername).empty==False:\n",
    "                cpnt_files_names_list.append(layername)\n",
    "                #Create a table containing the GeoDataFrame files in the good CRS\n",
    "                cpnt_geopkg_list.append(gpd.read_file(file, layer=layername).to_crs(4326))\n",
    "            \n",
    "for i in range(len(cpnt_files_names_list)):\n",
    "    if exists('Vectors/Components/geojson/'+cpnt_files_names_list[i]+'.geojson')==False:\n",
    "        cpnt_geojson_list.append(cpnt_geopkg_list[i].to_file('Vectors/Components/geojson/'+cpnt_files_names_list[i]+'.geojson', driver='GeoJSON')) \n",
    "\n",
    "    with open('Vectors/Components/geojson/'+cpnt_files_names_list[i]+'.geojson', 'r') as f:\n",
    "        data_cpnt_geojson_list.append(json.load(f))\n"
   ]
  },
  {
   "cell_type": "code",
   "execution_count": 2,
   "id": "748f6f18-f3d8-4abc-9c5c-ee2e80f4d0e1",
   "metadata": {
    "jupyter": {
     "source_hidden": true
    },
    "tags": []
   },
   "outputs": [
    {
     "data": {
      "application/vnd.jupyter.widget-view+json": {
       "model_id": "57bf3deffa704e7e99245687d2213c62",
       "version_major": 2,
       "version_minor": 0
      },
      "text/plain": [
       "Map(center=[19.96323, 110.61723], controls=(ZoomControl(options=['position', 'zoom_in_text', 'zoom_in_title', …"
      ]
     },
     "metadata": {},
     "output_type": "display_data"
    }
   ],
   "source": [
    "from ipywidgets import Label, Layout, Output, Image, Button, Box, HTML\n",
    "from IPython.display import display\n",
    "from ipyleaflet import Map, GeoData, basemaps, basemap_to_tiles, LayersControl, Marker, Popup, GeoJSON\n",
    "import random\n",
    "from PIL import Image as ImagePIL\n",
    "\n",
    "styled_photos_geojson_list=[]\n",
    "\n",
    "#import the GoogleSatellite xyz tileset\n",
    "#tiles=xyz.GoogleSatellite\n",
    "tiles={'url': 'http://mt0.google.com/vt/lyrs=s&hl=en&x={x}&y={y}&z={z}', 'max_zoom': 18, 'attribution': '(C) Google Maps', 'name': 'GoogleSatellite'}\n",
    "\n",
    "#Coordinates of center of the bay (WGS)\n",
    "center_bay=(19.96323,110.61723)\n",
    "\n",
    "#geo_data = GeoData(geo_data = geopkg)\n",
    "\n",
    "\n",
    "#create map\n",
    "m = Map(\n",
    "    basemap=basemap_to_tiles(tiles),\n",
    "    center=center_bay,\n",
    "    zoom=12,\n",
    "    scroll_wheel_zoom=True\n",
    "    )\n",
    "\n",
    "#create styled geojson\n",
    "for i in range(len(data_photos_geojson_list)):\n",
    "    styled_photos_geojson_list.append(GeoJSON(\n",
    "        data=data_photos_geojson_list[i],\n",
    "        point_style={\n",
    "            'color': 'orange','opacity': 1, 'dashArray': '0', 'fillOpacity': 0.1, 'weight': 1,'radius':5\n",
    "        },\n",
    "        hover_style={\n",
    "            'color': 'white', 'dashArray': '0', 'fillOpacity': 0.5\n",
    "        }\n",
    "    ))\n",
    "\n",
    "#print(len(styled_photos_geojson_list)) - test    \n",
    "    \n",
    "#define the handle_click (what happens when on_click is called - i.e. callback func)\n",
    "def handle_click(feature, **kwargs):\n",
    "\n",
    "#open image with PIL to get the image size (to define the box)    \n",
    "    im = ImagePIL.open(\"IMG/\"+feature['properties']['filename']+\".jpg\")\n",
    "    ratio = im.size[0]/im.size[1]\n",
    "    des_width_pic = 500\n",
    "#call    \n",
    "    box_layout = Layout(display='flex',\n",
    "#                        flex_flow='column',\n",
    "#                        align_items='stretch',\n",
    "#                        border='solid',\n",
    "                        width= str(des_width_pic)+'px',\n",
    "                        height=str(des_width_pic/ratio)+'px')\n",
    "    \n",
    "    \n",
    "    with open(\"IMG/\"+feature['properties']['filename']+\".jpg\", \"rb\") as f:\n",
    "        image = f.read()\n",
    "    items = Image(\n",
    "        value=image,\n",
    "        format ='jpg'\n",
    "        )\n",
    "    items.layout.object_fit=\"cover\"\n",
    "    box = Box(children=[items], layout=box_layout)\n",
    "    \n",
    "    #define the popup that will appear\n",
    "    popup_click = Popup(\n",
    "        location=(feature['geometry']['coordinates'][1],feature['geometry']['coordinates'][0]),\n",
    "        max_width=1000,\n",
    "        child=box,\n",
    "        close_button=True,\n",
    "\n",
    "    )\n",
    "\n",
    "    m.add_layer(popup_click)\n",
    "\n",
    "for i in range(len(styled_photos_geojson_list)):\n",
    "    #attach on click action to geojson\n",
    "    styled_photos_geojson_list[i].on_click(handle_click)\n",
    "\n",
    "    #add geojson\n",
    "    m.add_layer(styled_photos_geojson_list[i])\n",
    "\n",
    "#add layers control\n",
    "m.add_control(LayersControl())\n",
    "\n",
    "m\n",
    "\n",
    "\n"
   ]
  },
  {
   "cell_type": "markdown",
   "id": "c858c929-a36d-45ea-87b4-1f46c9395255",
   "metadata": {
    "tags": []
   },
   "source": [
    "## Mapping of the project activities\n",
    "\n",
    "The map below presents the main sub-components of project. The name of the sub-component will appear when hovering over the component on the map.\n",
    "\n",
    "For component where the extent of the activities can be estimated the map will be update to reflect the explicit\n",
    "\n",
    "In addition to the component name, a description of the activities will be added to allow smooth navigation of the project content.\n",
    "\n",
    "Component 1 is represented in Yellow and Component 2 in red. Component 3 is mainly concerned with soft activities dedicated to the support of Components 1 and 2."
   ]
  },
  {
   "cell_type": "code",
   "execution_count": 5,
   "id": "c3d757af-27d3-49b7-af5c-ae1b29bd14b8",
   "metadata": {
    "jupyter": {
     "source_hidden": true
    },
    "tags": []
   },
   "outputs": [
    {
     "data": {
      "application/vnd.jupyter.widget-view+json": {
       "model_id": "39dc5338b68a4acb8254e378eb0e3d19",
       "version_major": 2,
       "version_minor": 0
      },
      "text/plain": [
       "Map(center=[19.96323, 110.61723], controls=(ZoomControl(options=['position', 'zoom_in_text', 'zoom_in_title', …"
      ]
     },
     "metadata": {},
     "output_type": "display_data"
    }
   ],
   "source": [
    "styled_cpnt_geojson_list=[]\n",
    "\n",
    "mb = Map(\n",
    "    basemap=basemap_to_tiles(tiles),\n",
    "    center=center_bay,\n",
    "    zoom=12,\n",
    "    scroll_wheel_zoom=True\n",
    "    )\n",
    "\n",
    "def feature_styling(feature):\n",
    "    feature[\"SUBCPNT_NAME\"]\n",
    "\n",
    "for i in range(len(data_cpnt_geojson_list)):\n",
    "    styled_cpnt_geojson_list.append(GeoJSON(\n",
    "        data=data_cpnt_geojson_list[i],\n",
    "        point_style={\n",
    "          'color': 'red', 'opacity': 1, 'dashArray': '0', 'fillOpacity': 0.5, 'weight': 1,'radius':5, 'use': 'rectangle'\n",
    "        },\n",
    "        \n",
    "        hover_style={\n",
    "            'color': 'white', 'dashArray': '0', 'fillOpacity': 0.5\n",
    "        }\n",
    "    ))\n",
    "    \n",
    "\n",
    "#change the style for component 2\n",
    "def component_color(feature):\n",
    "    if feature[\"properties\"][\"CPNT ID\"] == 1:\n",
    "        return {\n",
    "            'color': 'yellow', \"fillOpacity\":0.5\n",
    "        }\n",
    "    elif feature[\"geometry\"][\"type\"] == \"MultiLineString\":\n",
    "        return {\n",
    "            'color': 'green', \"fillOpacity\":1\n",
    "        }\n",
    "\n",
    "styled_cpnt_geojson_list[1].style_callback=component_color\n",
    "\n",
    "styled_cpnt_geojson_list[0].style={'color': 'yellow', \"fillOpacity\":0.5}\n",
    "#\n",
    "\n",
    "def hover_handler(feature,**kwargs):\n",
    "#    if feature[\"properties\"][\"CPNT ID\"] == 1:\n",
    "#        styled_cpnt_geojson_list[0]._handle_mouse_events.dispatch\n",
    "#        mb.add_layer(styled_photos_geojson_list[0])\n",
    "    message1 = HTML()\n",
    "    message1.value = str(feature[\"properties\"][\"CPNT ID\"])+\".\"+str(feature[\"properties\"][\"SUBCPNT_ID\"])+\" \"+feature[\"properties\"][\"SUBCPNT_NAME\"]   \n",
    "    popup_hover = Popup(\n",
    "    location=(feature['geometry']['coordinates'][1],feature['geometry']['coordinates'][0]),\n",
    "    max_width=1000,\n",
    "    child=message1,\n",
    "    close_button=True,\n",
    "    auto_close=True\n",
    "    )\n",
    "\n",
    "    mb.add_layer(popup_hover)\n",
    "\n",
    "        \n",
    "#    print(styled_cpnt_geojson_list[2]._hover_callbacks.register_callback(mb.add_layer(styled_photos_geojson_list[1])))\n",
    "#    styled_cpnt_geojson_list[2].on_mouseout(mb.remove_layer(styled_photos_geojson_list[1]))\n",
    "\n",
    "   \n",
    "\n",
    "styled_cpnt_geojson_list[1].on_hover(hover_handler)\n",
    "\n",
    "\n",
    "#if styled_photos_geojson_list[1] in mb.layers:      \n",
    "#        mb.remove_layer(styled_photos_geojson_list[1])\n",
    "#4\n",
    "\n",
    "#def mouse_out(feature,**kwargs):\n",
    "#    if feature[\"properties\"][\"CPNT ID\"] == 1:\n",
    "#        print(styled_cpnt_geojson_list[2]._hover_callbacks.register_callback)\n",
    "#        mb.add_layer(styled_photos_geojson_list[1])\n",
    "        \n",
    "#styled_cpnt_geojson_list[2].on_hover(hover_handler)\n",
    "\n",
    "\n",
    "\n",
    "        \n",
    "for i in range(len(styled_cpnt_geojson_list)):\n",
    "    #add geojson\n",
    "    mb.add_layer(styled_cpnt_geojson_list[i])\n",
    "\n",
    "\n",
    "    \n",
    "#print(styled_cpnt_geojson_list[1]._hover_callbacks)\n",
    "\n",
    "\n",
    "mb.add_control(LayersControl())\n",
    "    \n",
    "mb"
   ]
  },
  {
   "cell_type": "markdown",
   "id": "ee259ab2-008e-4a5a-bba7-bc1d5fdd2acd",
   "metadata": {
    "tags": []
   },
   "source": [
    "## Mapping of the impact\n",
    "This part will aime at mapping and characterising the most important impacts that are likely to require important mitigation measures.\n",
    "This map is not currently available.\n",
    "### Greenway planning\n",
    "The environmental impacts of the projects are mainly linked to the restauration of the dyke and creation of a greenway.<br>\n",
    "![alt text](IMG/MAPS/Hainan_ESMF.png \"Planning of the greenway\")\n",
    "*Planning of the greenway*<br><br>\n",
    "As illustrated by the map below, the proposed greenway crosses sensitive habitats, that could be impacted by the restoration of the dyke. It will be important to gauge the barrier effet of the dyke, and to propose a design that limits hindrances to fauna and flora (e.g. mangrove propagules) across the dyke.\n",
    "\n",
    "The abandoned pond located westward to the proposed greenway may present interesting opportunities to restore marshes adjacent to the mangrove. It is advantageous from a biodiversity point of view to restore tidal marshes, as these habitats are naturally found in the higher tidal succession of mangroves.<br>\n",
    "![alt text](IMG/36763-cover.jpg \"Abandoned ponds, pioneering marsh characteristics\")<br>\n",
    "*Abandoned ponds, pioneering marsh characteristics*<br><br>\n",
    "![alt text](IMG/DJI_0514.jpg \"Example of a marsh and mangrove succession (Mai po, HK, China)\")<br>\n",
    "*Example of a marsh and mangrove succession (Mai po, HK, China)*<br><br>\n",
    "We therefore recommend to relocate the component dedicated to shorebird habitat restoration to the west side of the dyke. While the mangrove do play an important role for nesting and roosting of waders, it is important to give the project a expanded scope by realizing the restoration of habitat that can have synergetic interaction with the mangrove. In addition the restoration of ponds inside the mangrove, will not present a great interest for biodiversity as the forest matures the ponds essentially become a micro-habitat within the mangrove ecosystem.\n",
    "![alt text](IMG/MAPS/BirdHabitat_Move.png \"Proposition to relocate the component dedicated to shorebird habitats restorations\")<br>\n",
    "*Proposition to relocate the component dedicated to shorebird habitats restorations*<br><br>\n",
    "In order to better preserve the near-shore biodiversity sensitive areas, and its natural assets we would recommend to distinguish between a more pedestrian / cycling way directly along the shore and a more traffic-intensive greenway further away for the shore, through the villages, leveraging the existing cultural heritage to develop cultural and eco-tourism.\n",
    "![alt text](IMG/picture_2022_07_01_08_21_18_856.jpg \"Example of architectural heritage in the villages\")<br>\n",
    "*Example of architectural heritage in the villages*<br>\n",
    "\n",
    "### Seaweed bed restoration projects\n",
    "Regarding other activities of the project, we note that the seaweed bed restoration project is located in the core area of the park and the mangrove. It is important to understand what will be the protocol deployed in these areas to promote pilot restoration of seaweed beds.\n",
    "\n",
    "As it is a restoration pilot restoration project, it is indeed interesting to locate it within the protected areas of the bay, as it will allow the project to leverage the management of the park to sustain the long-term success of the project, however it is important to remain cautious when operating in such sensitive areas and details will be needed with regard to the protocol anticipated (e.g. taking examples from similar projects) in order to make sure that they won’t disturb the existing habitats\n",
    "![alt text](IMG/MAPS/Seaweed_Bed_Impact.png \"Example of architectural heritage in the villages\")<br>\n",
    "*Mapping of the seaweed bed restoration project and existing mangrove*<br>\n",
    "\n",
    "### Mangrove restoration in Sanjiang\n",
    "Finally, the mangrove restoration in Sanjiang will need to ensure that they respect the natural succession and dynamic of the mangrove as closely as possible. Currently the protocol used for mangrove restoration in the area seem to be lacking the necessary ecological design to ensure the restoration of a the natural mangrove succession occurring in Hainan.<br><br>\n",
    "Given the short time-frame for the realization of this project, it would be important to cccess to the current protocol in place for the restoration already realized in order to propose lines of improvement upon the propose protocols.<br>\n",
    "![alt text](IMG/DJI_0445.jpg \"Example of current mangrove restoration protocols in Sanjiang park\")\n",
    "<br>\n",
    "*Example of current mangrove restoration protocols in Sanjiang park*"
   ]
  },
  {
   "cell_type": "code",
   "execution_count": 68,
   "id": "a2f3d183-9146-46e7-9de0-74340b80185e",
   "metadata": {
    "collapsed": true,
    "jupyter": {
     "outputs_hidden": true
    },
    "tags": []
   },
   "outputs": [
    {
     "name": "stdout",
     "output_type": "stream",
     "text": [
      "Python implementation: CPython\n",
      "Python version       : 3.9.12\n",
      "IPython version      : 8.4.0\n",
      "\n",
      "xyzservices: 2022.6.0\n",
      "geopandas  : 0.10.2\n",
      "fiona      : 1.8.21\n",
      "json       : 2.0.9\n",
      "ipywidgets : 7.7.1\n",
      "IPython    : 8.4.0\n",
      "ipyleaflet : 0.17.0\n",
      "PIL        : 9.1.1\n",
      "watermark  : 2.3.1\n",
      "\n",
      "Compiler    : MSC v.1929 64 bit (AMD64)\n",
      "OS          : Windows\n",
      "Release     : 10\n",
      "Machine     : AMD64\n",
      "Processor   : Intel64 Family 6 Model 158 Stepping 9, GenuineIntel\n",
      "CPU cores   : 8\n",
      "Architecture: 64bit\n",
      "\n",
      " \n",
      "Last updated: Mon Jul 18 2022 01:06:44China Standard Time\n",
      "\n"
     ]
    }
   ],
   "source": [
    "%load_ext watermark\n",
    "\n",
    "# python, ipython, packages, and machine characteristics\n",
    "%watermark -v -m -p xyzservices,geopandas,fiona,json,ipywidgets,IPython,ipyleaflet,PIL,watermark\n",
    "\n",
    "\n",
    "# date\n",
    "print (\" \")\n",
    "\n",
    "%watermark -u -n -t -z "
   ]
  },
  {
   "cell_type": "markdown",
   "id": "14ff3a3f-510a-484d-b271-6fbbd33c183c",
   "metadata": {
    "tags": []
   },
   "source": []
  },
  {
   "cell_type": "code",
   "execution_count": null,
   "id": "1c2035be-a401-416d-96eb-290acbe7b293",
   "metadata": {},
   "outputs": [],
   "source": []
  }
 ],
 "metadata": {
  "kernelspec": {
   "display_name": "GIS-kernel",
   "language": "python",
   "name": "gis-kernel"
  },
  "language_info": {
   "codemirror_mode": {
    "name": "ipython",
    "version": 3
   },
   "file_extension": ".py",
   "mimetype": "text/x-python",
   "name": "python",
   "nbconvert_exporter": "python",
   "pygments_lexer": "ipython3",
   "version": "3.9.12"
  }
 },
 "nbformat": 4,
 "nbformat_minor": 5
}
